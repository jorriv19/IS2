{
 "cells": [
  {
   "cell_type": "code",
   "execution_count": 1,
   "metadata": {},
   "outputs": [],
   "source": [
    "import numpy as np\n",
    "from sklearn.cross_decomposition import CCA\n"
   ]
  },
  {
   "cell_type": "code",
   "execution_count": 6,
   "metadata": {},
   "outputs": [
    {
     "name": "stdout",
     "output_type": "stream",
     "text": [
      "[1, 2, 3]\n"
     ]
    }
   ],
   "source": [
    "freqoi = [7, 9, 13]\n",
    "n_harm = 3 \n",
    "harm_idx = []\n",
    "harm_idx.extend(range(1, (n_harm)+1))\n",
    "\n",
    "print(harm_idx)"
   ]
  },
  {
   "cell_type": "code",
   "execution_count": 9,
   "metadata": {},
   "outputs": [
    {
     "name": "stdout",
     "output_type": "stream",
     "text": [
      "[-1.7145055188062944e-15, 1.0, -3.429011037612589e-15, 1.0, 1.9619108011821185e-15, 1.0, -2.204364238465236e-15, 1.0, -4.408728476930472e-15, 1.0, -1.371852007299671e-14, 1.0, 3.921345679817883e-15, 1.0, 7.842691359635767e-15, 1.0, 1.1764037039453651e-14, 1.0]\n",
      "18\n"
     ]
    }
   ],
   "source": [
    "Y=[]\n",
    "for freq in freqoi:\n",
    "    for harm in harm_idx:\n",
    "        Y.append(np.sin(2*np.pi*freq*harm))\n",
    "        Y.append(np.cos(2*np.pi*freq*harm))\n",
    "print(Y)\n",
    "print(len(Y))"
   ]
  },
  {
   "cell_type": "code",
   "execution_count": null,
   "metadata": {},
   "outputs": [],
   "source": []
  }
 ],
 "metadata": {
  "kernelspec": {
   "display_name": "Python 3",
   "language": "python",
   "name": "python3"
  },
  "language_info": {
   "codemirror_mode": {
    "name": "ipython",
    "version": 3
   },
   "file_extension": ".py",
   "mimetype": "text/x-python",
   "name": "python",
   "nbconvert_exporter": "python",
   "pygments_lexer": "ipython3",
   "version": "3.7.6"
  }
 },
 "nbformat": 4,
 "nbformat_minor": 4
}
